{
  "nbformat": 4,
  "nbformat_minor": 0,
  "metadata": {
    "colab": {
      "name": "finalNotebook.ipynb",
      "provenance": [],
      "collapsed_sections": [],
      "toc_visible": true
    },
    "kernelspec": {
      "display_name": "Python 3",
      "name": "python3"
    }
  },
  "cells": [
    {
      "cell_type": "markdown",
      "metadata": {
        "id": "pvduHlNgJ_Ad"
      },
      "source": [
        "![UPM.png](data:image/png;base64,iVBORw0KGgoAAAANSUhEUgAAATQAAACNCAIAAAC2URHBAAAAAXNSR0IArs4c6QAAAARnQU1BAACxjwv8YQUAAAAJcEhZcwAADsMAAA7DAcdvqGQAAD/+SURBVHhe7Z0HeGPllfcNCQnZZJNNvtRld9OAQGBD7yGBUJINBJZeQieUMBDKMMUez7j3cS/j8RTPuPfeqyzJXbLlomYVF0mWLMtNxSoufP+rVyM0ssd4spiRzf0/59Fzy3nf+175/d1zztWV7PUJLVq0PFI0nLRoeahoOGnR8lDRcNKi5aGi4aRFy0NFw0mLloeKhpMWLQ8VDSctWh4qGk5atDxUNJy0aHmoaDhp0fJQ0XDSouWhouGkRctDRcNJi5aHioaTFi0PFQ0nLVoeKhpOWrQ8VDSctGh5qGg4adHyUNFw0qLloaLh/GR1ZWV5yWqzmBaNs/o59bxuYk43DpufURjmNWbjLHbBAV6OBjtCNptNqVQ5Vmh5pL6kcK6uriwv26xmw8KsSiXn9LMyGWUhTUV+zW5W7N9S7M+sCOexMxWynoUZhWVxYWnJguaOjratdLqZqKjo1dVVxzotz9OXDk6KyiXrwqyyn5XRVh5Wl7OnNns3ozxsoD1ncqx/RiObmx6bmx7HK0LorHZUqxLIhlu6G480Fh6CM6MsuLvpyPSkaMlmRizdvpNbq50OCQmn4fRkfangXEW0VEh7OusTa7I+bCo8xO8tnZB0KmW9Mn6rUsZZsllWlm1yYduoiIkthvmp5SXbQHvuYGe+ZKhRzm+d1Y4ppN2c1uO1oLQ8VNxfbTbNb9P5TcPp+fqywInCUqsSsquja7M/7mxIAqJAEaESq1qVCIyxqg8L+ypRdiJIVmW8X3X6H3I+Y8lq7mpMlgsYNusiWgm45VR9arOgFhVyK1pLg+vzvKVDjUiPHYfZPqLh9HztfDhRHwKePubp2mwq3E2rRCANyS12LC9ZkNmOidmIqJLB+o66hIUZJbMyovLUu7Ce5qNm0xy7JkY9MWgx6+E50JGrU0uaig4xykK5baeQ9Ip5NU2FB5uL/HXqkZWVJccht4NoOD1fOxxOxLm56dG2irCGfB9kqiMD9W0V4aL+KpvVRO1dWRrqzOcyTi4tWUcG6pCvAkIOIx1RlFkZqVEMI5AyykJ47GxYb8sxVKotJYH97CxAi12DXfmGhSn93GRvy/HG/ANDXQX2brfHdKfh9HztZDiXl6wKaRciG6vqMCIewuP0pBgFJHgDaUhNUWEq5b2M8jCNgs9pPTGl5CPGgjrtpGhWK8fClFLQ05Q6MyWzWoxLNrNJP12Ttdtk0GFOY5XXnoOSFfyjXhX1VTXkeXPb0uGzLe7l0nB6vnYsnCATtWJDvndXQzLoAopIYo0LWoAk5tUC1+YiP9Vo35RiuLf1OJ9TJhtuHu4pRsHZUhrUUhxAWUkAsyqqj3lKMtigmRhED5bFBVZV9LxOgQip00haS4M0iqGFWRUWVKPcyTFec7E/alTjwpTn80nD6fnamXAimsn4LfW5+5CyjorYrOropiI/xEwA1tWYglwURKFuVMh6eeyspsJDCHp4ba+JFXDKtCqh/SGECZ1Giky4u+lIS0kQHBoLfNtr48bF7ch4UYiiQ9SxRr0Wq6K+yiWbBXUsWiFQs6ujrRYDalrHaDxSNJyerx0IJ6KWQtYDMgc6ciVDjbPaMbCK4AnA8KqQ9tisi1jorE+oy9mLEhSpL4pJJL2O9muEDheNc4AWUbQ2Zw9oRO0KvI366YGOvM76RJDp9NSqRKhvWVVRHn4Ll4bT87XT4MRs06lHarM/RsxUynpZlVEcxknUh8AG6evs1Kh0qKmflQmHjrp4JKXr5p/nnrKrJr1O0FtWl7uvq/GI/eGEFIRZx04ql7YgYo+JWLXZexBXPfmJPxpOz9eOghNTzWyabykJZFZGLMwoEAz1c2pmRURf2+lFwwwC6fSkCGVhc5H/qIiFvU4yzWazXq9fsksg4O/ft7u2usxoNJK5u7KyYrOdiatos7JsMswASyS6YyK2uL8GuS4KTpvFxO8pbi0LBv9AFPzLBa3wdjT0MNFwer52FJzLS1aEx4Y8H4Wkm99bhvQVIBkXtK2lwUg+x0fakesij7Xfp/30M0mVSnXA+8NnHru3rLRw0WSqqa54/40/3XzTDYMDvMVFE5PR/NE/Xj9x/JjF4shdIRCKzqVDjchgAee0ekQ/r+ltTsOB5mcUVovRMKfGEZE2oyhdNzhfcNFwer52DpwrK0uq0b66nD1yAUPOb2WUhXBaT5gMOhCLylPMqwVIXY0pi8ZZ6imfpSWLxYx4iNnJ6+e+//aTt97wixeffejUyVTfj5584s83PvC7a4J93846nbZ711OvP/f7O2+/aXJSBWc0tFqty8vUU7UoNZXyXsRPIbdC1F+NcK2fm0THo8I2yUC9QtrdVHgQARZbHEP0JNFwer52Dpxm4ywSWsQrw8KUZXFhYXayu+lIR13CmJitnRQ1FR7qbjxitZgQx4BWB6suNe5gQ13V+Jg8Iz3lhSfuuvIXP7rl+p+/9cI9D/zu11dd/uPvf+9bt958wz92vXL1Ff9+3a//44mHb+f1czi9Hfk56SlxQRVlxaAUB0VuPD7SAewBp1LGwQUC3SO/td9wSgS0NVm7p5R8Dyw+aTg9XzsETsRCxKvanD2q0X4uI31KKUDuirCJOhMpbmtpEAKpeXGBzMXl5aXBvvbIQ89/9PdH3n37r6EhQbdc/4sfff/b99zxq2cfueW91/7wu9uuePj+37z14r3XX/uzu265/LIf/9tvfv3TlOTEve898cozd0ceelEqES8tOapQHHpkoK6x4MC8bgIJLSIzQndTkV9HXTyKT6rELQ7AxYI4e45oOD1fOwROFJZNRYc4rcdHRSzD/FRnfRJSSmFfpdk019tyvDb7Y4Qy14loNOpjwvf/12U/+OMfH3z0z3fecdMvXnzi9j1vP/jRmw8Azt/fdsVf7v/NC4/f9v7rf8Dqq8/c+egfb3jphecuv/yX3/rWN318vM1ms6Mju8BnPysDBad6fACvCOA6jdRi1vc2H1PIenDJmBzjeVrlScPp+doJcGLey4abELtQc44M1LOqotjV0Qppz0B7zri4vS5nr2y4xeF6RisrK6Ojox99+N41V/7knjuufOuF391+4y8u/9kPETOfefim52+/8tHbrnz+0Vvuv/vXl/3kuz/+4Xf+/Uff+a/LvvfD7387ODjI9c6QUybDTH2e93BPMYpbLCPdHRUyZzRSk16HpLe9No48zes5ouH0fO0EOJFMsqsPo6RESsmujuljnkbVp50UoxpkVka2VYTbrIsOVxchuWWz2q74+Q9fevKO8ANP/uj3f7z0sp89/Zeb33vpnr9c9v2Dv/z31/5y8xuvPPD1X17z3zde/ec/XHvxxRd959JLBwcHAbaji7OllFE3h6YnRzDjIaSyGACHkS7m1dTn7Z9SDDv8PEM0nJ6vnQCn/ZbpAfXEEEIWbNE4Jxe0CbmVKAUb8rw1oGK9KYh5OT8/d+Xl//nx2w8++Ptr/nD3NU8/euuh9x+K8nk8/ONHInb/5R+v3vvXx27/7a1XXnvVZQie3/23b/7Xf/7HxMTEuSb0ks2MoN3HzJiQdCFoA0gUuv3szPkZBXLsoa4Cj7otRMPp+dr2cK6uLKPURB4LCFHvsaoPI2zO6SaQ4gKVroZk57N1TtlstpnZWaVqUiyRPPTATb+6/Cc//tF3f/z9b1/9g+98fPll7/3sJ76//Pe9v/jJX370vV9/91vf/Oall3ztkq9//Ws//9mPnnv2ofEJBRrqZmasVqujO6dWV3FQcCgZbOS150yrR5DNzusUQ91F7bXxbRVhNovR4ekBouH0fG17OIEiozx0uLtQ1Fc1r5tAcjvCq+1sSBoTsxE2kViunX/TOt0tr/zjR34ZPzh46uvvx178zmGvv0dd9PeoS945/M13Dn/rncPf3hX9r68HXvp2xFfejsR2r7ej4HDxruhvfJiAVrCrnn9ndELh6M5FKCwBJKf1xFBXoWFeQ36OSD0xKOO3oPLUqoQOPw8QDafna9vDOTslR047Lm6XDTdbzQYeO6uzPlEp5+CV+vjENO/wc5FCNXnZ675eRaqzLG/Mq0DhdazP6+SQV7bUK6LWK4ntlS3xKlRSdrbz994IGBaPOLpz0erqiqi/GheL8ZFOjAFBGwNAumuYVzcW+iKzhYvD9UKLhtPzte3hHO4uaikJUMh6W0oCuYyTKPYWZlWGhSny+10r633XZH044xheiWyvmGavZz72im7y8sn0em6vV/qQV6bYK43r5vy9NwPXhROa0UiR2U5PihXSnn5WJkZFvtjdURffXhPj+tjghRUNp+dre8OJgrOlNAjRcmFGqVWJBNyK5iL/+rz9ylFufe4+9fiAw+9srQNnwYRXrtzrvXivN0Iv+unVX30t4Csv+V50431eUfVeu4/a46fC1X8DOG3WRXDIbTs12JkPGqeUAhTDg10FPHY2LiKe8z0yGk7P1/aGE0kjUBwVMvVzk4hO2LK0ZEWlJ+6vQa6rn1MTNzetA2dkvdfBXK/kjov+59XvXHPD00/e/eifb7706hu8HnzRK6XLy7/Q63i/q/8GcCI2ivoqUWEiYDrvRY0M1I/w6rDRpJ8mWy64Pkc4P0fC0ZVTjk1n5Nh67mNtvNepTbqtFWkIOda3XtsbzvkZRUOeN6o7IbcCVKDkQ/wcFbLYNTGsysh1P96E1oucCq+Qcq97n/7+TbdH+D6ZGvbXWP+nd7/3yDceeNbrvueo+Hl22bkBnPgjqsd5dTl7+T2lJsMs/qT25/uo5+Dr87w9557Q5uFUq9UDAwOuj14MDQ2LxWLydDG29/Zy1GrNyoqjK6PRyOMNaDTUtRKanZ0bGBicn5+32WzDw8ODg0NkO7S8vCyVytAbdkFcLrfXRVxu3/Q0dS1bWVnp6+t3bO3t7e/vR+euIzeZTMPD/I6Ozp6eHqlUSgYG6fV6jHxqaoqsojf0STrBgkwmc3o6ZbVaeTwePF37X1xc7O/nkYY4WT6fbzB8ETfetzec05PUzw6o5FzwOTMlQ/wEkGJeTW32x0NdBctLaz7tsMsdTiS0KDWf+sjrl9f99w2/Sgn9a6zf04c+fBgL373yKq8n3/cKLvM6xacA3hScn8xqR8m92c76JMR2pLIyfgvyW2zE2BxOF1qbh5PBaAsNDQNdZBVNDh+OSUujvkOH5bm5OW/vAwkJSU56lUplUFAIUCGrQqEoODhUIpGAhJKS0oMH/cAMOa7JtJiQkJiaehSUGgwGX99Dfn7+aAt/WFhYBJCDG4Dx9w88dAi7grHXzy8AnXR2dpGnQXAtSE4+go3wDw0NRyeZmdlAHbvGxsbRT3d3D5YhDoeL/tEVOsErPE+dOo3OnW8COhwZkRw4cLCiohJDIhshrVYbGBiMAQQHhwQGBuHo6HZyctKxe8u0veFEOGosPDgqbJuQdPJ7y8ZHOhBLAUB15gcTEvzx1v/Q3x1OREXwmcb1eiPsyhuvjQt89m/P3/3+6/clBT/3nZ/8xGtXLJXZwqHo0+C5MZzUg76FByfH+sGn/b8hqbWTIoywsdCX157tcLrQ2jycLS2tmJoIgGQVTSIioo4cSTWbzViemZn9+OO9e/fur6mpJUhMTCgw9dnsduLP5wsCAoLE4hFMfUxoH58DPT29hCuBQABPwI9+QOz+/d55efkazZTOrpmZGfIMM/gBSFlZOQiYiGkymTw+PhGAkctBQ0Mj+kdk0+sNuFIgJKpUKtL/6OgodjkvEzjuoUN+9oCsg09dXR0uK62trU4OcbiUlFScC9hzzRQwJIwTJ4ijIw7jjOBAwHZ4bI22N5zgkPpZA0EbqyqqtTTY/n+HAkT91dWZH85Oj55r5q1Xc9Z5vZfg9ezef3nm/Weeu2/frv/x/fAv9z9w8yUPPu/13D6v1wK9Eliu/hvDaTHrW0oCpUNNAk6ZXMAQ9VU1FflJBhsYZaFdjckOpwutzxdOHx9fxK6JiQlQcS44sYwmkZGHs7NzEEXhWVRUHBISNjs764SzoqJi3VQTcBYXlxD48drc3Lx37z7wi4aZmVlRUdELC3riTLAkWgsnBimRSLGMhmQwJ06kk24hEOvvH1BQUAhoXZ/TBJzoh1xEsAqYc3JyEaUxZuKwRdrecA515TPKw6aUfP3spNk0Z1lc0EwMIX4irUWK63Bao3XgTOd7ZYi8ouq87nr0q4/v+vZ1t377lt9dfMM9Xvc87RVa6XVaSKW1LmXnxnAitWZWRPB7S5FXm/TT7OrDXY0pC7MqdnV0W3mYw+lC63OEc8+efYh44CcpKQXzFYieC05gkJOTh+QQbRGaEADT00+RxHJt5HQm0gRO7MIWJLGIqEiqcQhkxdhbX98A5BA/x8bGMEjUh06oNoATwmBwFomJSSQAAjmkynAYH5+wD+zTwOgGJ4SDInRjJGR1i7S94eSxM9k1McM9Jazqw0ggAcPK8pJmYrA+dx9yS4fTGq0DJwyJ6/tJXkntXtfc4eWdQT0V9OBLXml9XrtiKDjPdt4YziWbub02fqAj12oxIoRSv5Rp1oPYrobk5iI/h9OF1ucIJ/JAJpPV2toGhFpbGUDiXHACGz6fD5ixEfkhtqNzdAIROFHOYdKHhITCUlPTSA8ETpR8YWHhKCxR9ZEDEQiB69Gjab6+B9EWcRj1MEpEsmszcIJDi4WCEKeD6jciIhJXDbCHrkwmEwaGXWvhbGpqwThxBSGrW6TtDWdf2ynAiYBpMszIhpu7G1Om1SMo9urz9m/wocX6cILAHLlXfJvX4UavxHYv/wKvoFIqnOaPe50WuDl/FpyW7qYjfcxTQm4Fh3ECiOKqMT+j7GpIqs/d73C60Pqn4cS8XxdOTOWEhETMaRaLDQbWhRPC1AddSAsrKirRrUJBPQXphPPEiZP9/f0DA4OwkRFHEwJnUlIygMzNzUPO2dbGdB05HOTy0YGBARwa14Xw8EgQi+2bgTMhwRE5sR1tcYlBXj02Nr5/vw+qU1KOrgdnMw3nZwhwttfGIVIhYKpG+xoLfEGFUtYLOI3nCycMiWvmCPWaI6MoxWvBhLuP3TYH52nAKeRWinjVAk45StDOhqTGggMOpwutzcPZ2tqKqYnKkKxi7mL2I7F0gxPzWKlUAk6UbWDpXHDCDUUdYiAC3fHjJ8l9Fyec5eUVYAarEPGHCJwoULGAYQPpuLgEgo2r0AQXjt7eXm9vH/IZzGfCibCJqItu0RAXC1TOpaVltbX1NTW1gDM6OgZXHHiuhbOkpBRwzs05LlhbpG2e1rZnI3KiyOSxs5BATkg6EaPU4wN1uXuNC45Pt9ZqLZxfO9b3jYTW7yQzvxPf/I24lq9kj1ySKfpKAvPStN5vnh76l1ODX80bdfX/TDg7G5IHO/JwyVhZWaYMw7IY22tiWor9HU4XWpuHE6EMIHV39xBnhUKJKY5JDEqxxRVOqK6uHtMawe1ccAIDHm8ADmjV1dVN8k/0Q+CsqKDgJJ5OETjJDSEcFJEczdEJaYvwpVarCat4xaXkwIGDBJtzwCnBMjwRtEFjcXEp+iQf6gD7o0ePHTt2HIb0GAedsH+9gcCJuE3egfn5BTgj5OLyRPW7ZdrecA53FzErI0Z4tQOdeWbTHPX7WqurWqWAuiE0u9kbQhcXTPzn3X9q6Og5nltQx2wva2h5Ze/Bd/xCWYPCbrG8XSA9UVb943cjLsobczb57BtClRHDPcVTCr7FrEdgJ0/AMysjWVWRDqcLrc3Dubi4iGIMMzU2Ni4xMSkgIBCTmHyvFXKFE84INcgVN4ATTZBzgp+DBw8h0jo3EjjtUTEeAQ2WnJwiEomx1xVO4onKMykphbAKnNAqKio6JSU1OjoWnhgACchr4cRxUVWi88jIKER47CW3fIVCEXJanAWORTQ+Po6uSJYLOEF1cHAoGsbExCFm+vn5t7d3kKvD1ml7w4k6s7k4QKsSoua0LOoXjXOz2tFRIbMm88O56XG86Q6/s+UG59ejan9z253FJSWVVVX1DQ2wU6dPHz9+vI3JbGUwsnNyMrOzn3jtra8nsZ1NNobTaja0lAYhjwWNsK6GZE7rcVF/NYba23zU4XShtXk4MQUXFhbYbDamJjI9QILgSVCEDAYDqECJSGYqXjGtjx49Pjjo+OUH1G8nTqST2pIIB62qqs7OziUIESF2HTlyNDk51WmgjpSdwCMt7TiySnJQrIIiOKNnHA6REyUoWAWfiGZYxmjJYDQaDQ7N51NPMkAikSg1NY10juaNjU1KpYo82NTQ0Jiefso1TQWfJ0+mFxQU4RKA7ceOnUhOPkLa5ucXCIVCODhct0zbG071OK+p8NC4pLOjLp5RHtpaGsyujh4ZqK/O/FAh7V7d1EMIyn/ZnfL7+x8EkCdOnkw7dux0RsbRtLSk5OSc3NyUI0eysrOPpKZ+4HPw0piGTcKJKwVGNTnG02kkxgUtLhMKaQ+uI+R/eDqcLrQ2DycRpjtCKAIj2HBthe3I7oCNc+Py8gomLtzIKhaw6oSZiAQ9136wjH6gxUWHAV1nJ2SZ+OMVvbkeFAtwwNiwkWBJhO1uI4Hb2s4hjAeerm0hbLFabdgIORtCzpFstbY3nDNT0sYCX2CglHMQNs1G6n/aIqFFWouMd/nMr1e6yQ3OS99PuOve+7KyssrKy2FRUVFgMiExkS8Q8AYGUIJ8+NFHuw8Ffi22eZNwgkaMamZKNqUUdNYnjonYiKVIthvyvOXCNofThdb5wknri9f2htMwr2nIPwAGUNGh0gMP3LZ0Aaec/AAftjj8zpZbWvtDv4w//OnPuXl5hUVFyGmRzaamplZUVBQXFzc2NXV1d2dkZu7ad+AriUxnkw3hXNUohurz9iOtRUIr6qtuyPfGkMZHOrBxYWad30+4INpecJJo6RbZdry2N5zAryHfZ1TYJuyrlAsZk2P95IlzAbe8seCA4Rw3bN3g/FlE0d33PZCTk+Pt7Y20lsliJaek5BcUhEdEdPf0oOaE/fXv7128uZpzZWVZMtiAyCnoLV+xf7UaF44+5unhnmIMCYGduF1wbS84kUzW1zcMD/O/VKF+e8OJKyqrOnqwK3/JZrFZTH2sDC4jfXV1RacWI0xNKR13AtzkBud/hBU8+dcXECTLKyrqMAUaG0NDQ1F2FhUXc/v6EEuR5d772NOXpHY7m2wA55LN3N10pJ+VKee3ki3LS9aRwfruxhRGWci5gvkXr+0FZ38/LyIiSqVSOda/HNrmcH7yiYzfwqyMtCwuaFUChKaFWdXc9JiAU4YCT9Rfte4XU9zg/H9+mc+/8tpdd9117bXXXnXVVQ888ICvr69/QMBtt912+RVXPPHEEx/v2fPdX1z11TSOs8kGcFI/hFl0SKeR4jJh1E+D1SkFH4luS0lgZ0MyLhwOvwutbQQnstm0tOMikRiZrWPTl0PbHk6TXttc5KceH0Sd2VIcMNRdOKORTki6UHMyK8Kt6/0a5aRa81+v7nN+P/PfQop+evNd/3r1jd+9638uf+yVb9/yh2/+x8+/9dMrv/rr2796zR3f/tV13/3l1Tc+9epF6UNOOH/w0l6xVO7ozkVgb2Sgrq0iTC5g6NQSBHOEzYUZJXmicIRX6/DzAG0ezvn5+VGHxsbHx2dnZ13vc4Ick8kklUq7urq1Wq31zAcM6HlxcXFsbByva4+i080oFEqLxYLm09PTju7PCK3m5ubRCg5YlctHxeIRqVSGhYkJhdns+AAGbQ0Gg0Ag7Ovrx6hsLk8vTNrl3IKuyNfEyMjxOolJoPm06gH26EooFHI43JmZGdcThNDcaDTh3N22b7W2PZxIaNk10UJuBSo9k0GHAo982qka7WvI91bJuQ4/uzQajUQiWdDrXwuK/kqG43H2i/NGL8oUXZQhvDhr5CvZkoszxZee5F18aph6sDZDdNFp4cUZQmz3yj/zKF9qz91PvaSanKyurmYwGI6u7UKc7GxIGuzMV8p6OYwThnk1/q4gdqAjF4OZ1004/DxAm4eTyWTZv2dMffs5LCw8MDC4tLSMPNeGOS0UiqKjY7A3JCQ0IIB6aFZv/yIVeh4ZkaAhiFp7lKqq6pCQsKmpKfRQUlJKvid98KAfesD2iIjIjo5OtFIqlb6+h9A59tqPHhEVFU0+jcTenp7eoKAQGDl6RUUlYCb9Jyen+PsHOp8iwmtFRVVMTCwIxCquF9HRcadPZ9p9qbPAlQU927sKIScIsJ3DxnJ+fgHOBUUv6fCL0baHk5r6nXldjSkmvQ4JpGy4WcyrUcq5wJJZGdHbcgyxy+62ivkUGxtbXl4uEon4I9I73vH519iGS07zL8kQEPvqaT5FbI7MAWG25CvpQ19NH7wkfchug1872vOtoMIr7n+Eyxvs6upKS0vz8/NzuWCvaiaGmov957RjoJTTegKUgk+zaaGtIryjLh4bHY4eoM3D2dLS6ucXoFJN6vUGBChMU1CEYIW2CwsLKAVhcrkcyzU1tUCirKwcMxjC+7xvnzeC6toJjdkPT4Qv7AJR6Bnx2c/PPyUlFYcAQojA6H9iYmLPnn1cLhedwweGPyLBRq1Wg9ukpGRESDQpKCjEqAYHB0n/sbHxaBgbG0e+d4ajFBeXhodHoh+sIgyGh0cdO3bC7vsJaMcVAV2hT0TswsKi/ft9urt7AC1xmJmZxVUDG/PyCr7I4Lnt4YR0GgkyW61KOC5uJ59tAkhEsOGe4oZ8n4UZFdDEe/r666/v3r27oaEBkwar8wt6dnfvyx/sefSVN598452n33r3qTff/e3/Pv39Fz6+JEcCSr/36Ov3PvHcU2/ueuqNXY+/9tYjL73+4jv/qGto0Ol0mE8dHR24rufk5IyNjZFhUDG8OrqPeVo61KSfUyOJnZ4Uo9TUqUfqcvaiAPacghM6LzgRTJzfSkHWFxgYVFlZhbkLeA4cOIgIRvrB23Ls2PHExGSgtUk4Hev28OXvHwBgXBNj9L93734+X+DWA1YRz318fMEVOTQgjIo6DK6IA+DEob29D2RmZuNvvTGcXV09JCqSVcCfkJCUlUU1xCraInPGsdLSqOcEzfbH/YnnVmsnwImI1NN8FFRQ30qg/jWuDWGztTRoWiVkVkYCGGCDP3lRURHKBpkMpYsc10gIf3sOh3Pw4EEsoxnedGhqZva+vWE3PPumaESCjegRf626uro333wzJSWlubmZ+o0nDgcJLV5HkLrZH6TGVMJBmwoPCjhl9bn7a7I+ItbVkIQxYMus1sGwh+i84CTPoOLdgEAUuGpqal5aWsbpY9bilfSDvdnZOcgeFxepJ3U+FzgRABEPgT3+ChDciDOJ0khQibObACdy3fT0U4j5yKvhvwGcdXUN6AqFLll1E8aTmZmFsIzB4HQQxskYvgDtBDghhbS7pSTAuKCVDNTb/0NmAPUNlWUbar+63H3Yi/lx8uTJAwcOfPDBBz4+Pk888cRdd9310EMPxcfHv/HGGzwer7S0lEwLzAkEh+HhYTKlECdTU1MxP/D68ssvozkuyLt27brvvvveffddzD/y9PaicbYhzxsZ9axWvuTyw2KoM2uzP+YwTuIC4djkGTovOBEekazW1VHfpUJhhpmKqYy2YjEFJ3IH0g/eMSR+0dGAk/o5gs8FTvsPFHnv308ZjoVilThjJIhjG8AZGXkY12EUq0hZEVc3gLO2tg5duQ7GVUibsZdkCklJKUeOHHXekdpq7RA4LYsLqDCHugq5jJPSIer/MgAGw7zGsqjvbTmOrHJhdvLYsWNRUVH4UyMGvvrqqx9++OHzzz8PXF988cWWlhbsIncyIEwL53zCzIuMjGSxWA8//LC/v//jjz8eGhr6v//7v2j10ksvIaKC3pXlJcRtREiziWRZjhmPZR47G3BOT4rI9PUcnRecKLdQv2Fqwo4fPzkxocD7g7YETuctH0zf3Nz8zxdORM6srBwEt/r6xoaGJrGY+p7KGTiDNoYTKA4MDODKUl5eUVRUsgGcSA3W/RAVY2Ay2dg7PT2Ns8A8cc3wt1o7BM7VlWXqobncfTNTcgRMxDGg0lh4UNRfMzMlQ+HHqo7WL8zNzsyAJfIbakhlAV5TUxNIw588MzNTq9WizHCdr/h7aDSa9PR0ZMKPPfYYsmL4IK7ilSwYjcYlmxX1ZEOBr1GvNZvm56bH7N9cw9xdmZ0eRWbbVu5Bzx44dV5wAiS8Y9RD32Yz4CGwoa1UKgOcqAlJP3j3MjKyYmLi4PY5wjk0NGy1Ug/KI5EmXcEZYRwBnNw0hrAPy85VAqfBYMBIjh5Nw8UlKio6LCx8XTibm1twaNQ7ZBWH0OsN5PqCdBoXI1Skubl5hYXFJ06k44w6OjpxOOK8pdohcEJWi5FdQ/3nXJSg/exMxKuq0+81F/vr5zWz2lFUg5zWE4CE3JXBHx7Cu493mclkvv3228h1ER5xoUVViYXOzs6Ojg5Ai7lVUFBQWVkZGxu7dpItL9lkw9R/EFPKOeqJwe7GI7goCDjlVOm7ZMUqFbRnlOSgHqV/+oaQq+xfdPRHyodqEF0he4yMpCY93lW8V58LnOe6IdTfzwNyHA6XFKII5iEhoY2NTcSBwIlLJzwxciS36Cc0NGxdOHHlBX74o5Nh46SQuiONR7cKhQJhE4bzgkVERCEOg3PyMyhbrZ0DJ1BDgddYcEAp42iVAkTR6swP2NXR8zqFfm6SPO+KpBfBzQ2V7u7uZ5555m92FRUV3XPPPU8//XRaWtqTTz55/PjxsLCw3bt3c7ncsrIyRwOHVnEVkPFbgL1c0GYxG4Tcipqs3ZWn32NVHTbpdWMiVlXG+/2szHN9OebC6nOBE3EpKysbEay4uKS1lREXFx8UFIwLHLnwETjJLgajDcZms0ntcF6Rs6Cg0KWHdoCBXQiSyclH0El1dU1TUzNQxCCRDZG2TjixjJ7b2zswknPBiSCJShJAoqDFyR4+TH1sq1Sq0BCIoltkWOiKCCMBybjibOat+z9q58AJofbjc8oYZcHzM4oppWCwMx9Mov5ELdpRn0g+hGTXRINV8kg6EcBDVMQfPyYmJiIiory8HLVoIAqaoCBsf/nll7ELma3zDw8hi0Z5iWM1FfkpZD3UD5GsLOvUkvo8b1wd+D0luCI0FR1qLvIDtF/AX/Gf0Obh7O3lHD16jHx87yY0B5+lpeUEBlSkAoGApHzYNTo6Fh+fiF1OgwPSY+zFFAcPKDHs3VACzKmpaSUlpTab40+DHlBTuDaHJSenzJ75NSMEauSZKHERytLSjsHZeTooU9PTT2NsZBVDQl564sRJ0IVVs9ly8uQpXCDIXghnl59fgIQ8KupwSkoqYinGAzhzcnKRzSK5dfhR75sWDs5Pj7ZUOwpO/EGRTHbUJXTUJZIvkS3ZLCMDtaK+KoRNALkwq0L92VR4aEzcvrRkcX4bG1fryclJXOlx1Ycww4iGhoYkEglqVPydiCdCAiIh+mkrD2spCUBBO6dT2Cy4lq8gWk5PikeFTOxtLQ1GtTk51u+BCS3R5uFcXl4BMBt4YhfeQMQf57tEhO32jz/OEukHngDGrU/sxXbXjRv0QIRlkENKXMcmu9C5W/+uR8QrcSC7iLCRnIWzK+K29qTIRtLVlmqHwQmtGvVaoIiwOTslR1YJWiYkXe01sZZFPTJPUX+1uL+6Pm8/GFaPDwA18PPZbzQ87CUqylfkxnU5e1DcDrTnjInYXOYpHG52mvo4AcIVAQetyfwIR0ErR3PP0+bhpHWhtPPgpDQ3PWb/RmUZUlmENWFfJaM8FNlmR20CsyIC8Q0Ag96GPO/m4gDpUKNOPUKe8ltXAHhONy4XMFhVUcCSx84U82pbS4MU0h4Qiwjc23JsgPqtPRs6GeoqQMzsbT2+QYeeIBpOz9fOhBPMaJX8psKDqDYRypCILtnMCKQImOAQ1YTFrO+sTxwf6ZQOt6AKbSkOQLmIYpXDOCkdblaN9U+O8eR8Rh/zFNJX7EImDDLBM4C0WU3IlrmM9O7GIyAT6Aq5lfyeYqvFiFham727uynFZvWgx2jXFQ2n52tnwgmBmelJYXORHxCyLC6AnJ6mo5zWk6AUcCI7RVoL8KjQajUtGmen1WKVnAsykZR2Nx3pbkxBPAR1Cmm3emJwfkZBbiwxKyOokLi6OquVNxUdQmIM+AEt6syO2nh7unsK5Hv+pKfh9HztWDghlIgzGiny2I7aOKWcQyE0o0TQU48PImyCz/baONCIWhLOWMAq3OT8Vslgg2FO3dN8dHykA1sQDzmME2DSMK+pzd6DV8xprAp6S4G3UtaLcMquianL2YstuBB4cqnpFA2n52snwwmtriwvGme4belIcUV9VSa9TqMYFnDKQCYVBisiqd9lt9+zFXIr4LZkNVvMBiCHaIkyVaeRIq6CPQ5qyGUbPBFvBZxykInMGamvQtYjGahvyPdpLvaXC1o97QHaDbR5OOE5NDRMTCwemZ+fd97ARPPp6U/3On3cboRCs7OzAoHQ+QQPkcViEQpFCoXjp6WJ0LlcLlepVK5jw0aJROo8xNjYGLpyOmCvTCZ37h0ZkRgMBucgsYAt9p+opa7Cer2ezxcQTwxpamrK7Q6w52iHw2kXFeVGBW2NBb4tJYGTY/1AFKSRjV0NyVgGab3NaeCTusFjM7OpH7+tY9fEIsXtakzpZ2Ug5MIfcIJAoKtVCsDwlILfXOSPgAlPk0Hn/GBmW2jzcLa2Mvbv9zlA/Ua7n5+ff0hI6MDAICY0dmHeMxiMffu8fX0P+fr6wQF2+HDM2kdee+z/uLaqqtp5RCxwOH2HDvnn5Z31W77gKjLy8MmTn/7bTAgYR0fHensfwIFwCH//wNjYeJwC4c1sNicnp2CQZK+fX0BISBiuEYRPq9WKtkVFJeSSIRKJcFAfH194YiEwMDg/vwAD9kA+vwxwEq0uGnQCbkVd7r62inAxr9ZqNk5PikGaTj2CiNdeEysXMICf2TTXVHjI/ixeKhBFDswoC0Fg7G05joQWlKL+FPPqUHzWZn8MOKcUw8DbcZDto83D2dLSinkMIKVSKUJNfHwiVjHF0RbTvbW1dc+efcPDw9grlcpgExMTrlwRdXf3AB7A4PxVdfgcPXoMYOfm5pMtRJ2dXSAnICDI6QkBzsOHo5OSqH/QIJFIuFwuugKf5PEAwJmUlAzMsAsDGB7mBwQEhoaGk4cc4BMVFV1QUETgFAqFaFtTUwdPsVhcUlIK5nGOzkjrOfrywEm0CsCE3MqGggNAC1WlqL96dkqun1NLh5omxweUMk4/O8v+pW1rHzMDxSe4xTKC7dz0uGSoEakvys7qjPd7W9JUo30r2xBLovOC0/XxPa1Wi8BVWVmFuU7g3Lt3P3nyZgMROGFtbUyyZXx8ApCgrSuc6BDIgcPAwCDy7TAiAqfzP70jYLJYbG9vHySlOAUCZ0REpPN0+vr6ET95PB6W18IJ8jkcx+/XYGNU1GHns34epS8bnFQ2tbpC5a7q8QEu42RbRVh15oc1WR8hNpL/aAIylbJelZw7IemSDDby2FnwoYDM/KCx4GB30xH4mI1z5OkFR6fbUP80nMgAkTRmZGSCk/OCE4lxWFhEcHAIekCYOnIkFQQiCLvCqdFoQE5LS0tBQSFgcz5/txZOZK1AfXBwCMtucOK1trYOcJLvl20MJ4S8Ooj6N9We8pPCTn3p4DwjClGERFBKvufF7y1hVUW1lgW3lgY5jVEWzKqK5HXkTKtHTIYZm5X6NT37N8I+e057uP5pOJGOgrHTpzOccCKtxXSHT1BQMHYNDTn+hZGrACfirUwmR1nY3t6OsAl4mpqaw8MjXOHEseA2Pj6OoIfU1Pnvj9zgxLBHR0cBJyIkOCdwIjtFyp2QkIQweOCAL6pWtCJtN4azrKwCcLo+6Osh+tLCeZZAKupGgAr8rBaj1WygzGK0P29gJneM4OXw3hH6p+EEHmFh4adOZWDSO+FsaGgk3xphMlnk0XY3AU4goVZrjh07HheXkJ9fCB7GxsYjI6OccNqxD0dERWgFKnBAQUh2rYVTJpO5wYnInJZGdY46trKymvy4Jmm7MZzFxSW4rNBw0vIU/dNwIoMNDg7Nysp2Rk6ktXq9HpAQrdsn4EQSOz2tE4lECHGwxsamubk5RDkCJ1pJJFJsP3EiHZDjoBERUYiiej31bRg3OJHKgjFAKBSKnGltaGg4qJ6engZ7CQmJpCFpuzGcOBdcCFzvP3mIaDi/pDovODGbyQ982WxLyCeRkQItrK4LJ2hZ2y2BE3Udmhw/fgLZrMEuJ5xoVVFRiaQ3PDwSLMGQISMY8njUt0MJnOnpp4Df0hJCpQVVJfbOz1Ph0a3mbG1lkNvL6BOr68LZ09OLoWLLwsICgRk9Y69HiYbzS6rzgvPgwUOIZt3dvdXV1M9qAc7RUerHBAmcSGtZrHZM954eDgxUEAxcdQZO6jeWEHsJzFhwwomcFj2npBwBbya7kB6HhoYhrMET+AHOuLj4jo6urq6ejIwsYJySkkoCqRucs7PUz8yi+CS8rYUT48cqBoyTiomJQ1d9fX04CvZ6lLYczuWV1aWVVdsysRXrenZm76eGJm7mutet+bkMh3NttUlzO+4mDae5KUPx6m6fwDCpPrUvpLrdPJyYwajuSC4Ki49PkEqlZCrjta3trL0w8Aa0SFunent7Q0JCUQc61u2CW3R0LOpPhDg+X+Dj40tqSLIX4IFMktkCsNjYOOchgBPoQqZNxo+9qFRBr/N06urq0RBXEyyjn9jY+OLiUgKnSCQGnM6ukAxjbOjB3s6ztLVw4r3K61NHNMv3V4r/Xsh/MXvwmVM8N3sug/dm/vBbBcNw2FshhvnWjPjVSvzqJKGNsvBmOQwLPtUju4r4cPtb3vCzp907WddeyBp4s4Dqea29XcDfXS4ih3M17yoxdWhXq5OENTmGQQynE9c2Fm+3ZPb40Y4J2Iku5Yluyk73UJbJUWXZLa9/Mq9fXTSgLh+aqhieahDpmkZ0zSO6dvls++hcz/h8v3KBp1oQa43SaZNct6hesGj0lgXzkmVpaz+n2TycoAVzlwgTneSKTmHGO/adEXzWdmvvxH07VuFMnlhAsoq263aOjcTT3j0lNHHrCnshx4o9SYabM4BjFzkKRHY5hYGtHa2HaGvhREi5Lbbj8pC2Xwa3/QIW1PbzNYaN1C67wc3N0JY0hznd1u1nrbn2vK45j/KZRoaxoTFhV2xgocwr19ivzthVYQ67OoxFWTjr17AI1nVR7TdGt98S03FnXNdvE7ruSer+Yyrnz2mcx05wn83gvZg18Hre8J4KUWC9FJeJNumM433fhDYPJ60LpS2OnJ98cnN0x88CGT/1eAMPfzrae10U++dB7rsurOHdc1gQZRie49Jz5vqCSwPg/1UY8+lT1AMxmxQNp+dry2vOW2I6PR9OBLEU9vi0wcqQzFwR0ua2d1sYuP19YvfmWaPh9HzRcFL210weKj2B2oACGOHIbe+2MLzJd8R1oo5wvO+fJRpOz9eWw3nrOeBEoeWorMJZV4WxkJi5OcCQvKEMuym6HeUW7PqodoQ4bHT1wRb049Ycq6jc8IqUD/keOYqrkb0oStEW9lruIGdi/tHj3Gsj2DgickVnVzgcDoF0FwO4O6Hr5pgOOJAxoPO7E7vQm9PZ1RDKyDmiN7wDcMYyBnOWj337tRGsO+M70fntcZ3ojfi7usHg9kBKD4bttt3VbjzcbrZt9jYSDafna8vhvDe5B9PUbRrB8riT1I1K5QJeWdKZyGYZ5qXTEwuA57fxnZXDUzKdSWuwwsRTxoweJYpYzFSHWyCjmKfpUyz410pcj/JRqQCwJbHG7k/p6Rybw1HcDHvhg+neMz4P6x2fxxayzJbPPpTGIf3gQJjxxzsnhFOGKYMVee/ozGI1XwsmseuGw+0YW3SrfN1MGIxlc1Q4uzfyhhCN3y4YxjiZshkn+dh4TTjLt3oE29ULlmmjVTlv7hydeylrAJcDNz7vSuiU6xZfzx1a980k9t+RbINlsx/W0XB6vrYczvtTete9xTKs0p/5lI/6uG95ZbVnbA7Ti0xKRKcE5pjBsoTJ4/yQkHhiHh+sHiHJJyKYSGPExhNdCtejoK11eQUUPXWqf27RRpqT8ZBjYVscY/SZ0/2fbjxjmN8vZg2QzveWixRzZnJc0gkMQ1owL4GTG6PbQaxlaSW0UeoabIkBsH7FAtwPVY+AZL9aCdrOm5cQTrEXjP0ptRfoYiPpnHxYimFiuLGMUecFiHIOZJzqVliXVgr61ejWud3NEPYxHnJGnykaTs/XBYazbEhzsGakkKfGdMfURKxDwEQgSuuYwFzENEXc+7hceE9SN2JgcL10WG2Am8m67F0pQiefCSey0LcKht8t5r9fIjChx9XVw63y94r57xTyf5/YReDEoUMbpIdqRoj5VIoRnNHJe0V8vXlpZWVVNGUEfhjAH5J79laIusfmAOT+ShGBE7MbHfvXjrjFz43hfPBIz+Q8hb1mwZLerXzkGPd3CV3IrmsFWpxdyYDGNQFGMYlLDA40ZbD8MbXXud3Nrolgjc9t9lf/aDg9X1sO54NHAKd7VIEROMObZJismFVJrHHME2SViJnI6wAM5ujpHiUSPwQl8vkBpjjqT0xfQAYH9IxdG8OJVJl83gBU5u0h9PGTfVjFxsuD2wicGr3l+sPt6JwY2fu7xK5Zkw0Hahbrbo6m9mIAOAT2Ykgp7HGAhIzXGakWrctgnoBHbAM4sYosGp1PzJkfTuPAE9UvYimOCyb/ljcY1SyDD+kH272rxOSZBNvyKt6Tdd9PGAaG68gmaaPh9HxtOZyPp/dtACciEublFaFMhCzMk8FJPQq53ol5YMSQzlwb4X7/A13dndAFnDCzT3YpMK03hvPqM3drMO/nTBScj57gOrYEOeBEnox0mmwkBgLj20ZBgs5ovS+lZ+34cVzAg6ECThwdbngFeCgsscvpsy6cV4exXs0ZNNuWjdblv+UNOSF0GrYgfSC1JRJawIzKFucrRtxcWhFrjb85e7ROw5VoQKWn4dwx2nI4n0jvAwZu0whG4IxpHcUUR/U1aF+t4mvvTe4GLeBoVxF/3ZsfmLgBdRLUZkKN4aow1v8dTqNl+WS3IrV9glg8c+zO+E6ekuIqhjHqGgzdjMCJTgPrJC0jOizoTNZ3i/gYIfaeC07ENxwF5A9N6q+PanftcK3hMoGAjJ4RxlEJj80sIvzvLhO4uRHDyXaPz9Nw7hh9AXD2Awy3aQQjcE7pqXuw00br0vIq0k6ElD+nceYXlzAXkVi6NSEGYm+L7UBbZJKIFf93ODE9sR2hiRiG8chxLmo8dPunVITNT7t1MwInohmARDzvU8zjoIjqL2cPgMZzwYl0oF44jeVk9vgG5BODA7BHJ3XC6euj2FkcFc5hVGcC4W6eMFyqmLJZGs4doy2H8+WcwQ3gRABBKDBYlkHpnnIhPP/naC/qyRmj7Y64TrcmxJDpodjD5MY0/VzgBF0dspk2iY5YnWDqtwldVAa5uooLxLrRm5grnEh9b43pEGgMOAYi/30p3RjbueAEb1iObpE7c+B1DSO8P6XburQC58dPcBFmdxUO43AI9U+f6ndzhqFcbxTrNokbDafna8vhfDV3IzhLBtSo05461X+T/QYpDDxoDVaw8WL2gNtnfcQut2d6mFTjM4uo37ai5kQNLNGi2098qsQbPM3nBie23JPUjXwYWCN+Pnayz54bf7I2rc3sVcGnc3TumjVFtashElYMUT/5gbQC+YVAbZBOm3BeaFvFn1p71fhVGBOnTMO5Y3SB4SQ3hFy3Y+6imMQ8Lh5Qo+Jy3UXspuh2VGtwKBvUIOvbCjjBUi53EgyMaI23nyOAw9bCCUNajvFjziNXR89YcIMTEXV3mRDDwwXosTODWdeQO+iM639uabQuozh34xPvRtnQFA3njtGWw/lmwfC6jJ0LTkTLgDoJAoTesvRRqdCt7bUR7NhWObBBSfjXTB72bgWc6OrJ9D6MAQdK65i4bg26b+QN/eUYx/kQgiuc6BZ8js0sYtaTme8G51WhTCSoijkzVjtG59xKa5z+w8c4qL3BcESzDD7KOfPf8oZeyRkg9kGpYNpAlejxbaNubw6S5AKeepO4TU1pg4PDaDg9WVsO5/ulgvOCE4Z5WSecBl32j+PVv43vvC6KjQl9X0oPUzZjtq2Ah2TWGLoFEgTO3L7J22I7b43tuDm6Ax0mng+cyKJByM0xHcQQDzHL4R/VLCfH6hqbeyClBwPAMH6f2FUr0OrNS6iQ14UThoGhQ+W843kANzgR30DgM6f6UVpjkEjO/2b/yPQ3kWxUrZHNshmTLb9f/YfkbtThqMlRmiLNxniIUc9OtY3hlAEtsnrXzB/DPtGl3CRuarUmODiUhtOT5YlwIlu7M76zbEizaFsGT8gPUWvJdKb5RRvJBlPY4+AEngROTDCzbRlzGoZiDzAnss4DTmycMdrI47uwiTkzamA4IJzGt42BQ3QFkOQ6E4aBPBPAGC3UIwfnghMGGp842adasKytOckd2itCmCi2Jxcs1iXqGoSDospV6y3oDZbRq/SuFGMXTvb+lLMeTkZUR6aNAePd21chQs/OXegTKcNmcAOTNJyery2H84M1qSkxxB/VvHlvhcg1HXUaNl4fxT5YM8KWzYIHpLgwgIeIChKcX85A3GgW6ybnzUhNiU3MLt4e2+FbLcbC6R6l83Yo4Bme1CvmFp2Pv2ELUlOkiOjf1RCRkNMSn6vCWEAIkKNnUApU4NAmndlXKQK6sAGVHgd6KWtg7VngrF/JGcSYfSrFQOiDEgF65qsNl595N8DSI8e42VzVqG4R8KPzuUUbyukE5ujdCV2ZPUr4Z3NUa3tG8CzsV2NI+X2T5DNVYjhKWJOMhnPHaMvh9LHHDecEchqVxcV2bPwdKPCDFBcp4rOn+wHMHXGdmJdud0FIP7fFOeyWmA7MZrS6Jab92giWM6Ch1U323/tw4gqwMTCE6Dvju1zttrhOEtycDXFQAI9I+FwGD4NBNCbdAj+UozgQ+nRNL52Gti9kDjyUxkGURifwXPvUAVJW5LSPHOOghP7jkV4Aj24R5zF4+ONE3PxhOPrVYUyc7H9HsF3zDpzOoVoJDeeO0ZbDeeAccNL2uRuo3l0uRCL9maLh3Bai4dw5Bjg/KqPh3DnacjgD6yU0nF+M0XDuMG05nGH2L4WtW5LR9vnaFSFM7yoxXXPuGG05nBq9VagxDk3qByf1Ayp959hc5yhljWLq55VhlcPa0sEpWG6fOpMzCTvWSX1H5Ij9CyKHW0eJBTdK/escdrBm5ONyITFUWW8VDL+RT2zo+cyBp0/1P2W3J072PZDa47TfJXbfav8slNgtMZ8a+YTzpuhP7cbo9hsPf2o3HG6/HhZ1ll1n/+RzQ6Mawm480y2OQo5IxnBXQtf9R6ixPXSMS8b8QtYAzgLn8n6pgJzgoToJTjm4QYY3IYYxhrcltWPidK8Kb1QJ3rehKbyTLPls78Q8X2OY0m/2l8u1Wm1U1Kc/kU7LA7XlcBJhClBm/3cDK+RXP4jZf5tjiZjL/0Swkn+pYP/Qj5jZaTbKFm3LxEwwK/XdSKcZLNTHEjDqAxjz0sIZmz/bpo02F6MetZt0sYk587iLjc0uSnWms2zaJNYaRVMb2YjWKNctjs+aFfNm0i0OhMPpjDbnMMjYyOc0MHIKOCOcFzlB54mT94G8M+RdwptG3kC8n+dLmc1m02g0jhVaHqkvCE5atGidr2g4adHyUNFw0qLloaLhpEXLQ0XDSYuWh4qGkxYtDxUNJy1aHioaTlq0PFQ0nLRoeahoOGnR8lDRcNKi5aGi4aRFy0NFw0mLloeKhpMWLQ8VDSctWh4qGk5atDxUNJy0aHmoaDhp0fJQ0XDSouWhouGkRctDRcNJi5aHioaTFi2P1Cef/H/D2Vg4vwnAbAAAAABJRU5ErkJggg==)"
      ]
    },
    {
      "cell_type": "markdown",
      "metadata": {
        "id": "5grVjl9aKX0v"
      },
      "source": [
        "# **CBIR for mushroom classification**\r\n",
        "## Anton Aba Varela\r\n",
        "## Arturo Pinar Adán\r\n",
        "## Nacho Regaña Muñoz\r\n",
        "\r\n"
      ]
    },
    {
      "cell_type": "markdown",
      "metadata": {
        "id": "cW-dEl5lqMt4"
      },
      "source": [
        "## Preprocessing"
      ]
    },
    {
      "cell_type": "markdown",
      "metadata": {
        "id": "jl4v1Rpl5Ket"
      },
      "source": [
        "\r\n",
        "In this section the preprocessing of mushroom data is developed. \r\n",
        "The dataset used contains some families of mushrooms. For each family of mushroom (represented in the name of a folder) some different images of mushrooms of the same family are presented. \r\n",
        "The complete dataset can be found at: https://www.kaggle.com/maysee/mushrooms-classification-common-genuss-images\r\n",
        "\r\n",
        "However, for simplicity in performance and time, a small dataset have been chosen contained in the folder *data* of this repository. (Link:     ). \r\n",
        "\r\n",
        "In the following cell the implementation on how the dataset is loaded as well as preprocessed is presented. \r\n",
        "\r\n",
        "First, the necessary packages are imported in order to perform the load and preprocessing parts. \r\n",
        "\r\n",
        "After, *drive.mount* function allow to mount the file system used by Google Colab, if this notebook is run out of Google Colab this line can be removed. \r\n",
        "\r\n",
        "*loc* variable store the path where the dataset is located (the folder of the dataset). In this case the value initialized stands for a path of Google Colab, however depending on the place where the notebook is run this path must be changed. \r\n",
        "The small dataset used is called *MushroomsReduced* therefore the path should finish in that name if the folder name is not changed. *Example: /path where is located the mushroom reduced dataset/MushroomsReduced*.\r\n",
        "\r\n",
        "After the data is stored in two dictionaries (one for color similarity and other for texture similarity). The keys are the names of the mushrooms and each one has assigned a list of transformed images (keeping the same order for both dictionaries)"
      ]
    },
    {
      "cell_type": "code",
      "metadata": {
        "id": "gi1jXSDhpy7l"
      },
      "source": [
        "from google.colab.patches import cv2_imshow\r\n",
        "from matplotlib import pyplot as plt\r\n",
        "from google.colab import drive\r\n",
        "import numpy as np\r\n",
        "import cv2\r\n",
        "import os\r\n",
        "\r\n",
        "drive.mount(\"content\", force_remount=False)\r\n",
        "\r\n",
        "loc = \"/content/content/MyDrive/Colab Notebooks/IREI/data/MushroomsReduced\"\r\n",
        "\r\n",
        "dicColor, dicTexture = {},{}\r\n",
        "names=[]\r\n",
        "for mushroom in os.listdir(loc):\r\n",
        "  folder = loc+\"/\"+mushroom\r\n",
        "  files = os.listdir(folder)\r\n",
        "  \r\n",
        "  dicColor[mushroom] = [(cv2.imread(folder+\"/\"+file)) for file in files]\r\n",
        "  dicTexture[mushroom] = [(cv2.imread(folder+\"/\"+file, 0)) for file in files]\r\n",
        "\r\n",
        "  names.append(mushroom)\r\n",
        "\r\n",
        "print(\"LOAD finished\")"
      ],
      "execution_count": null,
      "outputs": []
    },
    {
      "cell_type": "markdown",
      "metadata": {
        "id": "XB0ZdS09ME4p"
      },
      "source": [
        "##Histograms"
      ]
    },
    {
      "cell_type": "markdown",
      "metadata": {
        "id": "ArSuOvcJOlu8"
      },
      "source": [
        "In this section the different histograms for color and texture descriptors are presented."
      ]
    },
    {
      "cell_type": "markdown",
      "metadata": {
        "id": "w5WaghebPhJ9"
      },
      "source": [
        "### Local Color Descriptor"
      ]
    },
    {
      "cell_type": "markdown",
      "metadata": {
        "id": "Fa4LCZ9ZOwcu"
      },
      "source": [
        "In this section the color descriptor creation and the describing process with it for each image is shown. \r\n",
        "\r\n",
        "The color descriptor is represented by a class named *ColorDescriptor* with three methods: \r\n",
        "- __init__: Represents the constructor of the class. It uses a parameter *bins* in order to set the number of bins used for the histogram of the color descriptor. Moreover, it has been chosen a HSV color descriptor with three different values of bins given as a list. \r\n",
        "- __buildHistogram__: It computes the color histogram used for the HSV descriptor using an image and mask parameter given. \r\n",
        "- __generateFeatures__: In this method is perform all the describing process of the image obtaining as an output the feature vectors. In order to achieve a better accuracy, color histograms are computed in different regions of the image. Therefore, for the image descriptor the image is divided in 5 regions: The top-left corner, the top-right corner, the bottom-right corner, the bottom-left corner, and the center of the image. After, a mask is constructed for each region where the color histogram is computed obtaining as the output the feature vectors for each region. \r\n"
      ]
    },
    {
      "cell_type": "code",
      "metadata": {
        "id": "UxPD1jjoUCCa"
      },
      "source": [
        "import numpy as np\r\n",
        "import cv2\r\n",
        "import imutils\r\n",
        "\r\n",
        "class ColorDescriptor: \r\n",
        "  def __init__(self, bins): \r\n",
        "    # Number of bins for the color histogram\r\n",
        "    self.bins = bins\r\n",
        "  \r\n",
        "\r\n",
        "  def buildHistogram(self, img, mask): \r\n",
        "    hist = cv2.calcHist([img], [0,1,2], mask, self.bins,\r\n",
        "                        [0, 180, 0, 256, 0, 256])\r\n",
        "    # Normalize the histogram\r\n",
        "    hist = cv2.normalize(hist, hist).flatten()\r\n",
        "    \r\n",
        "    return hist\r\n",
        "\r\n",
        "  def generateFeatures(self, img): \r\n",
        "    # Convert the image to HSV\r\n",
        "    img = cv2.cvtColor(img, cv2.COLOR_BGR2HSV)\r\n",
        "    features = []\r\n",
        "\r\n",
        "    # compute the center of the image\r\n",
        "    (height,width) = img.shape[:2]\r\n",
        "    (centerX, centerY) = (int (width * 0.5), int (height * 0.5))\r\n",
        "    # Divide the image in regions to compute a region-based histogram\r\n",
        "    regions = [(0, centerX, 0, centerY), (centerX, width, 0, centerY), \r\n",
        "               (centerX, width, centerY, height), (0, centerX, centerY, height)]\r\n",
        "\r\n",
        "    # Mask for the center of the image\r\n",
        "    (mx, my) = (int (width * 0.75) // 2, int (height * 0.75) // 2)\r\n",
        "    mask = np.zeros(img.shape[:2], dtype = \"uint8\") # black background\r\n",
        "    cv2.ellipse(mask, (centerX, centerY), (mx, my), 0, 0, 360, 255, -1)\r\n",
        "\r\n",
        "    # Loop over the regions\r\n",
        "    for (startX, endX, startY, endY) in regions: \r\n",
        "      # Construct a mask for each corner of the image, subtracting\r\n",
        "      # the elliptical center from it\r\n",
        "      cornerMask = np.zeros(img.shape[:2], dtype = \"uint8\")\r\n",
        "      cv2.rectangle(cornerMask, (startX, startY), (endX, endY), 255, -1)\r\n",
        "      cornerMask = cv2.subtract(cornerMask, mask)\r\n",
        "\r\n",
        "      # Extract a color histogram from the image creating the feature vector\r\n",
        "      hist = self.buildHistogram(img, cornerMask)\r\n",
        "      features.extend(hist)\r\n",
        "\r\n",
        "    # Extract a color histogram from the center region and update the feature vector\r\n",
        "    hist = self.buildHistogram(img, mask)\r\n",
        "    features.extend(hist)\r\n",
        "\r\n",
        "    return features\r\n",
        "\r\n",
        "\r\n"
      ],
      "execution_count": 2,
      "outputs": []
    },
    {
      "cell_type": "markdown",
      "metadata": {
        "id": "mfzHEObmQf7f"
      },
      "source": [
        "In this cell is performed all the learning process where the images of the dataset are described by the color descriptor presented above. The feature vectors obtained, are stored in a dictionary.\r\n",
        "\r\n",
        "After a process of trial and error and analyzing the size of our dataset and how similar the color distributions in the dataset are to each other, the following setting is used: 8 bins for Hue channel, 12 bins for saturation channel and 3 bins for the value channel.\r\n",
        "\r\n",
        "The dictionary that store the feature vectors is called *colorData* and its key is a combination of the name of the mushroom with a */* character and the number of the image in the folder. By doing this, is guaranted the uniqueness of the key in order to improve the indexing process in the dictionary later. \r\n",
        "Finally, in *colorData* the value stored for each key is the feature vectors for that image. "
      ]
    },
    {
      "cell_type": "code",
      "metadata": {
        "id": "_p0ITcaKZ3Im"
      },
      "source": [
        "import cv2\r\n",
        "\r\n",
        "# Initialize the color descriptor\r\n",
        "# 8 hue bins, 12 saturation bins, 3 value bins\r\n",
        "cDescriptor = ColorDescriptor((8, 12, 3))\r\n",
        "\r\n",
        "colorData = {}\r\n",
        "# Store the original images to be indexed by the label\r\n",
        "originalColorData = {}\r\n",
        "\r\n",
        "indexImgColor = 0\r\n",
        "for name in names: \r\n",
        "  for img in dicColor[name]:\r\n",
        "    features = cDescriptor.generateFeatures(img)\r\n",
        "    colorData[name + \"/\" + str (indexImgColor)] = features\r\n",
        "    originalColorData[name + \"/\" + str (indexImgColor)] = img\r\n",
        "    indexImgColor += 1\r\n",
        "  indexImgColor = 0\r\n",
        "\r\n",
        "\r\n",
        "\r\n"
      ],
      "execution_count": 3,
      "outputs": []
    },
    {
      "cell_type": "markdown",
      "metadata": {
        "id": "uVsdsSc2UDYQ"
      },
      "source": [
        "### LBP Texture Descriptor"
      ]
    },
    {
      "cell_type": "markdown",
      "metadata": {
        "id": "75N0hwvpTZ2z"
      },
      "source": [
        "In this section the texture descriptor creation and the describing process with it for each image is shown. \r\n",
        "\r\n",
        "The texture descriptor is represented by a class named *TextureDescriptor* with two methods: \r\n",
        "- __init__: Represents the constructor of the class. It uses two parameters: *p*: Stands for the number of points in a circularly symmetric neighborhood to consider; and *r* represents the radius of the circle for each scale used. More information refer to original *Ojala et al.* paper \r\n",
        "\r\n",
        "- __generateFeatures__: In this method is performed all the describing process of the image obtaining as an output the feature vectors. The Local Binary Patterns descriptor is used due to its effectiveness at object detection, and therefore, extracting the different head of each mushroom. However, the *lbp* output obtained is not directly usable as a feature vector since it is a 2D array, therefore, to construct the feature vector is call the function *np.histogram* which counts the number of times of each of the LBP prototypes appears. Finally, the feature vectors are returned after being normalized the histogram."
      ]
    },
    {
      "cell_type": "code",
      "metadata": {
        "id": "xD0NUttZBS4Z"
      },
      "source": [
        "# import the required packages\r\n",
        "from skimage import feature\r\n",
        "import numpy as np\r\n",
        "\r\n",
        "class TextureDescriptor: \r\n",
        "  def __init__(self, p, r): \r\n",
        "    # p: Number of points in a circularly summetric neighborhood to consider\r\n",
        "    # r: Radius of the neighborhood circle considered\r\n",
        "    self.p = p\r\n",
        "    self.r = r\r\n",
        "\r\n",
        "  def generateFeatures(self, input, eps = 1e-10):\r\n",
        "    # Generate LBP representation of the image (input)\r\n",
        "    lbp = feature.local_binary_pattern(input, self.p, self.r, method = \"uniform\")\r\n",
        "    (hlbp, _) = np.histogram(lbp.ravel(), \r\n",
        "                             bins = np.arange(0, self.p + 3),\r\n",
        "                             range = (0, self.p + 2))\r\n",
        "    #Finally return the histogram normalizing it before\r\n",
        "    hlbp = hlbp.astype(\"float\")\r\n",
        "    hlbp /= (hlbp.sum() + eps)\r\n",
        "    return hlbp\r\n"
      ],
      "execution_count": 4,
      "outputs": []
    },
    {
      "cell_type": "markdown",
      "metadata": {
        "id": "ohA_MoWMVyY5"
      },
      "source": [
        "In this cell is performed all the learning process where the images of the dataset are described by the texture descriptor presented above and stored in a dictionary to use them after in the distances step.\r\n",
        "\r\n",
        "After a process of trial and error the optimal results have been seen setting *p = 24* and *r = 8*.\r\n",
        "\r\n",
        "The dictionary where the feature vectors are stored is called *textureData* and its key is made by the same procedure as in the dictionary *colorData*. The value stored for each key is the feature vector for that image.\r\n"
      ]
    },
    {
      "cell_type": "code",
      "metadata": {
        "id": "4HQHa81jl6dt"
      },
      "source": [
        "import cv2\r\n",
        "\r\n",
        "tDescriptor = TextureDescriptor(24, 8)\r\n",
        "\r\n",
        "originalTextureData = {}\r\n",
        "textureData = {}\r\n",
        "indexImgTexture = 0\r\n",
        "for name in names: \r\n",
        "  for img in dicTexture[name]:\r\n",
        "    features = tDescriptor.generateFeatures(img)\r\n",
        "    textureData[name + \"/\" + str (indexImgTexture)] = features\r\n",
        "    originalTextureData[name + \"/\" + str (indexImgTexture)] = img\r\n",
        "    indexImgTexture += 1\r\n",
        "  indexImgTexture = 0\r\n"
      ],
      "execution_count": 5,
      "outputs": []
    },
    {
      "cell_type": "markdown",
      "metadata": {
        "id": "Xp4-rVkPyV86"
      },
      "source": [
        "## Distances"
      ]
    },
    {
      "cell_type": "markdown",
      "metadata": {
        "id": "AP7t1LqVWbYg"
      },
      "source": [
        "In this section the comparison between the feature vectors of the query image and the feature vectors of the rest of the images in the dataset is performed. \r\n",
        "\r\n",
        "On one hand, the chi-square distance is used to compare the feature vectors for color descriptor. \r\n",
        "\r\n",
        "On the other hand, the euclidean distance is used to compare the feature vectors for texture descriptor. "
      ]
    },
    {
      "cell_type": "markdown",
      "metadata": {
        "id": "RGCLDz00ycB0"
      },
      "source": [
        "### Chi2 - Color"
      ]
    },
    {
      "cell_type": "markdown",
      "metadata": {
        "id": "wSI9bDACXFJg"
      },
      "source": [
        "The *ColorComparator* class implements the comparison of the feature vectors for color descriptor generated with the images of the dataset and the features for the color descriptor generated with the query image of the user. \r\n",
        "\r\n",
        "For this purpose, the chi-square distance have been selected since it is well suited for compare discrete probability distributions and color histograms are by definition probability distributions. Furthermore, the chi-squared distribution allow to change different parameters in order to achieve a higher degree of similarity with human vision. \r\n",
        "\r\n",
        " It implements the following methods: \r\n",
        "- __chi2_distance__: Compute the chi-squared distance for two histograms (*histA* and *histB*). *eps* is a residual value for avoid division by zero. \r\n",
        "- __scoreResults__: Using the *queryFeatures* parameter that contains the feature vectors of the query image computes the chi-squared distance with the rest of feature vectors for color descriptor in the dictionary *colorData*. After, it returns a new dictionary which key is the unique label that identifies each image with the notation showed in *Local Color Descriptor* section and the value the distance computed between the features of the query image and the features of that image."
      ]
    },
    {
      "cell_type": "code",
      "metadata": {
        "id": "1uz6YihNccCI"
      },
      "source": [
        "import numpy as np\r\n",
        "\r\n",
        "class ColorComparator: \r\n",
        "\r\n",
        "  def chi2_distance (self, histA, histB, eps = 1e-10):\r\n",
        "    # Compute the chi-squared distance\r\n",
        "    d = 0.5 * np.sum([((a - b) ** 2) / (a + b + eps)\r\n",
        "    for (a, b) in zip(histA, histB)])\r\n",
        "    \r\n",
        "    return d\r\n",
        "  \r\n",
        "  def scoreResults (self, queryFeatures):\r\n",
        "    scoredResults = {}\r\n",
        "\r\n",
        "    for (label, imgFeatures) in colorData.items(): \r\n",
        "      # Compare with chi-square distance\r\n",
        "      d = self.chi2_distance(imgFeatures, queryFeatures)\r\n",
        "      # Update the scoredResults. Key: label of img, value: distance\r\n",
        "      scoredResults[label] = d\r\n",
        "\r\n",
        "    return scoredResults\r\n",
        "\r\n",
        "\r\n"
      ],
      "execution_count": 6,
      "outputs": []
    },
    {
      "cell_type": "markdown",
      "metadata": {
        "id": "qBVxy8Q0yxuN"
      },
      "source": [
        "### Euclidean - Texture"
      ]
    },
    {
      "cell_type": "markdown",
      "metadata": {
        "id": "W6V3uxJOZscb"
      },
      "source": [
        "The *TextureComparator* class implements the comparison of the feature vector for texture descriptor generated by the images of the dataset and the features for the texture descriptor generated by the query image of the user. \r\n",
        "\r\n",
        "For this purpose, the euclidean distance have been selected due to its computational simplicity and efficiency for high dimensional spaces.  \r\n",
        "\r\n",
        " It implements the following methods: \r\n",
        "- __euclidean_distance__: Compute the euclidean distance for two histograms (*histA* and *histB*).  \r\n",
        "- __scoreResults__: Using the *queryFeatures* parameter that contains the feature vectors of the query image computes the euclidean distance with the rest of feature vectors for texture descriptor in the dictionary *textureData*. After, it returns a new dictionary which key is the unique label that identifies each image with the notation showed in *LBP Texture Descriptor* section and the value the distance computed between the features of the query image and the features of that image."
      ]
    },
    {
      "cell_type": "code",
      "metadata": {
        "id": "gc_t2x1utPHt"
      },
      "source": [
        "import numpy as np\r\n",
        "from scipy.spatial import distance as dist\r\n",
        "\r\n",
        "class TextureComparator:\r\n",
        "\r\n",
        "  def euclidean_distance(self, histA, histB):\r\n",
        "    return dist.euclidean (histA, histB)\r\n",
        "  \r\n",
        "  def scoreResults(self, queryFeaturesTexture): \r\n",
        "    scoredResultsTexture = {}\r\n",
        "\r\n",
        "    for (labelTexture, imgFeaturesTexture) in textureData.items():\r\n",
        "      d = self.euclidean_distance(imgFeaturesTexture, queryFeaturesTexture)\r\n",
        "      scoredResultsTexture[labelTexture] = d\r\n",
        "\r\n",
        "    return scoredResultsTexture"
      ],
      "execution_count": 7,
      "outputs": []
    },
    {
      "cell_type": "markdown",
      "metadata": {
        "id": "wIB5L7Hgy80l"
      },
      "source": [
        "## Search Engine"
      ]
    },
    {
      "cell_type": "markdown",
      "metadata": {
        "id": "oWxV5CPial1a"
      },
      "source": [
        "In this cell is performed the process of ask the user for the query image, the preprocessing of it and the color and texture description for that query image. After, the image is compared with the feature vectors of the color descriptor of the dataset and the same with the feature vectors of the texture descriptor. Finally, the program shows the results of the 10 most similar images combining both descriptors but weighting more the texture descriptor since its better accuracy. \r\n",
        "\r\n",
        "NOTE: After run this cell the program will ask the user to introduce the path where the query image is located. This path must be the same path (including the name of the image and its extension) according to the file system used. Otherwise, the program will finish and the user will need to run the cell again in order to be able to introduce the path of the query image. "
      ]
    },
    {
      "cell_type": "code",
      "metadata": {
        "id": "wHgeaAwVMYP_"
      },
      "source": [
        "import cv2\r\n",
        "from google.colab.patches import cv2_imshow\r\n",
        "\r\n",
        "# Initialize the descriptor\r\n",
        "# 8 hue bins, 12 saturation bins, 3 value bins\r\n",
        "cDescriptor = ColorDescriptor((8, 12, 3))\r\n",
        "cComparator = ColorComparator()\r\n",
        "\r\n",
        "tDescriptor = TextureDescriptor(24, 8)\r\n",
        "tComparator = TextureComparator()\r\n",
        "\r\n",
        "# Ask the user for an image\r\n",
        "print(\"Welcome!\")\r\n",
        "print(\"Please, introduce the path of the image\")\r\n",
        "userPathColor = input(\"Enter path: \")\r\n",
        "\r\n",
        "\r\n",
        "\r\n",
        "if (os.path.isfile(userPathColor) == False):\r\n",
        "  print(\"Image not found. Try again with the correct path\")\r\n",
        "  print(\"The path should be: /content/content/MyDrive/folderWhereIsTheImage/imageName.jpg\")\r\n",
        "else:\r\n",
        "  \r\n",
        "  userImageColor = cv2.imread(userPathColor)\r\n",
        "  print(\"Your image is this one: \")\r\n",
        "  cv2_imshow(userImageColor)\r\n",
        "\r\n",
        "  print(\"----------------------- RESULTS OF SIMILAR IMAGES --------------------------------\")\r\n",
        "  print(\"\")\r\n",
        "  print(\"\")\r\n",
        "  print(\"\")\r\n",
        "\r\n",
        "  print(\"Searching similarities. Thank you for waiting...\")\r\n",
        "  \r\n",
        "  featuresQueryColor = cDescriptor.generateFeatures(userImageColor)\r\n",
        "\r\n",
        "  finalResultsColor = cComparator.scoreResults(featuresQueryColor)\r\n",
        "  \r\n",
        "  grayUsImageTexture = cv2.cvtColor(userImageColor, cv2.COLOR_BGR2GRAY)\r\n",
        "  featuresQueryTexture = tDescriptor.generateFeatures(grayUsImageTexture)\r\n",
        "\r\n",
        "  finalResultsTexture = tComparator.scoreResults(featuresQueryTexture)\r\n",
        "\r\n",
        "  finalResults = {}\r\n",
        "\r\n",
        "\r\n",
        "  for key in finalResultsColor: \r\n",
        "    finalResults[key] = finalResultsColor[key] * (finalResultsTexture[key] ** 2)\r\n",
        "  \r\n",
        "  finalResults = sorted([(v, k) for (k, v) in finalResults.items()])\r\n",
        "  \r\n",
        "  finalLimit = 10 # number of results displayed\r\n",
        "  finalResults = finalResults[:finalLimit]\r\n",
        "\r\n",
        "\r\n",
        "  print(\"Showing the most relevant \" + str (finalLimit) + \" results.\")\r\n",
        "  for img in finalResults: \r\n",
        "    imgRetrieved = originalColorData[img[1]]\r\n",
        "    cv2.putText(imgRetrieved, img[1].split(\"/\")[0], (10, 30), cv2.FONT_HERSHEY_SIMPLEX,\r\n",
        "                1.0, (0, 0, 255), 3)\r\n",
        "    cv2_imshow(imgRetrieved)\r\n",
        "\r\n",
        "\r\n",
        "\r\n",
        "\r\n"
      ],
      "execution_count": null,
      "outputs": []
    }
  ]
}